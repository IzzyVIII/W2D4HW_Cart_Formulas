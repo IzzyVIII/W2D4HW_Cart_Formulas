{
 "cells": [
  {
   "cell_type": "markdown",
   "metadata": {},
   "source": [
    "# User-Defined Functions & Scoping"
   ]
  },
  {
   "cell_type": "markdown",
   "metadata": {},
   "source": [
    "## Tasks Today:\n",
    "\n",
    "\n",
    "1) Functions <br>\n",
    " &nbsp;&nbsp;&nbsp;&nbsp; a) User-Defined vs. Built-In Functions <br>\n",
    " &nbsp;&nbsp;&nbsp;&nbsp; b) Accepting Parameters <br>\n",
    " &nbsp;&nbsp;&nbsp;&nbsp; c) Default Parameters <br>\n",
    " &nbsp;&nbsp;&nbsp;&nbsp; d) Making an Argument Optional <br>\n",
    " &nbsp;&nbsp;&nbsp;&nbsp; e) Keyword Arguments <br>\n",
    " &nbsp;&nbsp;&nbsp;&nbsp; f) Returning Values <br>\n",
    " &nbsp;&nbsp;&nbsp;&nbsp; g) *args <br>\n",
    " &nbsp;&nbsp;&nbsp;&nbsp; h) Docstring <br>\n",
    " &nbsp;&nbsp;&nbsp;&nbsp; i) Using a User Function in a Loop <br>\n",
    "2) Scope\n",
    "3) Creating more User-Defined functions \n",
    "4) Modules <br>\n",
    " &nbsp;&nbsp;&nbsp;&nbsp; a) Importing Entire Modules <br>\n",
    " &nbsp;&nbsp;&nbsp;&nbsp; b) Importing Methods Only <br>\n",
    " &nbsp;&nbsp;&nbsp;&nbsp; c) Using the 'as' Keyword <br>\n",
    " &nbsp;&nbsp;&nbsp;&nbsp; d) Creating a Module <br>"
   ]
  },
  {
   "cell_type": "markdown",
   "metadata": {},
   "source": [
    "\n",
    "## Functions"
   ]
  },
  {
   "cell_type": "markdown",
   "metadata": {},
   "source": [
    "##### User-Defined vs. Built-In Functions"
   ]
  },
  {
   "cell_type": "code",
   "execution_count": 1,
   "metadata": {
    "tags": []
   },
   "outputs": [
    {
     "ename": "SyntaxError",
     "evalue": "invalid syntax (1885169875.py, line 1)",
     "output_type": "error",
     "traceback": [
      "\u001b[0;36m  Cell \u001b[0;32mIn[1], line 1\u001b[0;36m\u001b[0m\n\u001b[0;31m    def\u001b[0m\n\u001b[0m        ^\u001b[0m\n\u001b[0;31mSyntaxError\u001b[0m\u001b[0;31m:\u001b[0m invalid syntax\n"
     ]
    }
   ],
   "source": [
    "def "
   ]
  },
  {
   "cell_type": "markdown",
   "metadata": {},
   "source": [
    "##### Accepting Parameters"
   ]
  },
  {
   "cell_type": "code",
   "execution_count": 2,
   "metadata": {
    "scrolled": true,
    "tags": []
   },
   "outputs": [
    {
     "ename": "SyntaxError",
     "evalue": "unterminated string literal (detected at line 25) (3570173768.py, line 25)",
     "output_type": "error",
     "traceback": [
      "\u001b[0;36m  Cell \u001b[0;32mIn[2], line 25\u001b[0;36m\u001b[0m\n\u001b[0;31m    return f\"The {noun} is very {adjective} while\u001b[0m\n\u001b[0m           ^\u001b[0m\n\u001b[0;31mSyntaxError\u001b[0m\u001b[0;31m:\u001b[0m unterminated string literal (detected at line 25)\n"
     ]
    }
   ],
   "source": [
    "# elements passed into a function\n",
    "# variables to hold the place of items our function will act upon\n",
    "# order matters\n",
    "# a parameter can be of any object type (data type)\n",
    "# num = 6\n",
    "#if num % 2 == 0:\n",
    "    #print(\"even\")\n",
    "#else:\n",
    "    #print(\"odd\")\n",
    "                     # ** PARAMETER **\n",
    "def return_something(anything)\n",
    "            # acting upon that parameter\n",
    "    return anything\n",
    "                        # ** ARGUMENT is the object we pass into the function\n",
    "print(return_something(\"The weather is kind of gross here today\"))\n",
    " \n",
    "                       # ARGUMENT\n",
    "print(return_something(4))\n",
    "\n",
    "                        # ARGUMENT\n",
    "print(return_something([1, 2, 3, 4, 'hello', 'goodbye']))\n",
    "\n",
    "\n",
    "def make_sentence(noun, adjective, verb):\n",
    "    return f\"The {noun} is very {adjective} while "
   ]
  },
  {
   "cell_type": "markdown",
   "metadata": {},
   "source": [
    "##### Default Parameters"
   ]
  },
  {
   "cell_type": "code",
   "execution_count": 3,
   "metadata": {
    "tags": []
   },
   "outputs": [
    {
     "name": "stdout",
     "output_type": "stream",
     "text": [
      "The name is Bond... James Bond\n",
      "The name is Jenkins... Leroy Jenkins\n"
     ]
    }
   ],
   "source": [
    "# default parameters must always come after non-default parameters at all times forever and ever...or else\n",
    "def agent_name(first_name, last_name = \"Bond\"):\n",
    "    return f\"The name is {last_name}... {first_name} {last_name}\"\n",
    "# the default parameter is used when that parameter is not fufilled positionally by an argument\n",
    "\n",
    "print(agent_name(\"James\"))\n",
    "\n",
    "print(agent_name(\"Leroy\", \"Jenkins\"))"
   ]
  },
  {
   "cell_type": "code",
   "execution_count": 4,
   "metadata": {
    "tags": []
   },
   "outputs": [
    {
     "name": "stdout",
     "output_type": "stream",
     "text": [
      "Alex's birthday is January 21... happy birthday on that month and day!\n"
     ]
    }
   ],
   "source": [
    "# default parameters must always come after non-default parameters at all times forever and ever...or else\n",
    "def birthday_month(day, month = \"January\"):\n",
    "    return f\"Alex's birthday is {month} {day}... happy birthday on that month and day!\"\n",
    "print(birthday_month(21))\n",
    "\n"
   ]
  },
  {
   "cell_type": "markdown",
   "metadata": {},
   "source": [
    "##### Making an Argument Optional"
   ]
  },
  {
   "cell_type": "code",
   "execution_count": 5,
   "metadata": {
    "tags": []
   },
   "outputs": [],
   "source": [
    "def print_full_name(first, last, middle= \"\"):\n",
    "    if middle == \"\":\n",
    "        return f"
   ]
  },
  {
   "cell_type": "markdown",
   "metadata": {},
   "source": [
    "##### Keyword Arguments"
   ]
  },
  {
   "cell_type": "code",
   "execution_count": 6,
   "metadata": {
    "tags": []
   },
   "outputs": [
    {
     "name": "stdout",
     "output_type": "stream",
     "text": [
      "batman's power is money and their secret identity is Bruce Wayne\n"
     ]
    }
   ],
   "source": [
    "#keyword arguments must follow positional arugments\n",
    "            #parameter1, parameter2, default parameter\n",
    "def print_hero(name, secret_identity, power=\"flying\"):\n",
    "    return f\"{name}'s power is {power} and their secret identity is {secret_identity}\"\n",
    "                                            # keyword argument\n",
    "# print(print_hero(\"Batman\", \"Bruce Wayne\", power=\"money\"))\n",
    "print(print_hero(\"batman\", secret_identity = \"Bruce Wayne\", power= \"money\"))"
   ]
  },
  {
   "cell_type": "code",
   "execution_count": 7,
   "metadata": {
    "tags": []
   },
   "outputs": [
    {
     "name": "stdout",
     "output_type": "stream",
     "text": [
      "These are our favorite colors: yellow, magents, green\n"
     ]
    }
   ],
   "source": [
    "def print_color(color1, color2, color3):\n",
    "    return f\"These are our favorite colors: {color1}, {color2}, {color3}\"\n",
    "print(print_color(color1=\"yellow\", color3=\"green\", color2=\"magents\"))"
   ]
  },
  {
   "cell_type": "markdown",
   "metadata": {},
   "source": [
    "# Creating a start, stop, step function"
   ]
  },
  {
   "cell_type": "code",
   "execution_count": 8,
   "metadata": {
    "scrolled": true,
    "tags": []
   },
   "outputs": [
    {
     "name": "stdout",
     "output_type": "stream",
     "text": [
      "10\n",
      "17\n",
      "24\n",
      "31\n",
      "38\n",
      "45\n",
      "Hey great job, you're beautiful\n",
      "\n",
      "\n"
     ]
    }
   ],
   "source": [
    "#range (stop, start=0, step=1)\n",
    "def my_range(stop, start=0, step=1):\n",
    "    for i  in range(start, stop, step):\n",
    "        print(i)\n",
    "    return \"Hey great job, you're beautiful\"\n",
    "print(my_range (50, 10, 7))\n",
    "\n",
    "print('\\n')"
   ]
  },
  {
   "cell_type": "code",
   "execution_count": 9,
   "metadata": {
    "tags": []
   },
   "outputs": [
    {
     "name": "stdout",
     "output_type": "stream",
     "text": [
      "[4, 16, 36, 64]\n",
      "[9, 25, 49, 81]\n",
      "[100, 225, 400, 225]\n"
     ]
    }
   ],
   "source": [
    "# output a new list with each number from nums_list squared\n",
    "nums_list=[2, 4, 6, 8]\n",
    "nums_list2= [3, 5, 7, 9]\n",
    "nums_list3= [10, 15, 20, 15]\n",
    "\n",
    "def square_nums(a_list):\n",
    "    square_list = []\n",
    "    for num in a_list:\n",
    "        square_list.append(num**2)\n",
    "    return square_list\n",
    "\n",
    "print(square_nums(nums_list))\n",
    "print(square_nums(nums_list2))\n",
    "print(square_nums(nums_list3))"
   ]
  },
  {
   "cell_type": "markdown",
   "metadata": {},
   "source": [
    "##### Returning Values"
   ]
  },
  {
   "cell_type": "code",
   "execution_count": 10,
   "metadata": {
    "tags": []
   },
   "outputs": [
    {
     "data": {
      "text/plain": [
       "'Bulba Bulba'"
      ]
     },
     "execution_count": 10,
     "metadata": {},
     "output_type": "execute_result"
    }
   ],
   "source": [
    "poke_list = [\"Charmander\", \"Squirtle\", \"Cyndaquil\", \"Bulbasaur\", \"Chickorita\"]\n",
    "def find_a_bulbasaur(arr):\n",
    "    for poke in arr:\n",
    "        if poke == \"Bulbasaur\":\n",
    "            return \"Bulba Bulba\"\n",
    "    return \"No Bulbasaur, sad\"\n",
    "find_a_bulbasaur(poke_list)"
   ]
  },
  {
   "cell_type": "code",
   "execution_count": 11,
   "metadata": {
    "tags": []
   },
   "outputs": [
    {
     "name": "stdout",
     "output_type": "stream",
     "text": [
      "Bulba Bulba\n",
      "You caught a Bulbasaur!\n"
     ]
    },
    {
     "data": {
      "text/plain": [
       "'You caught a Bulbasaur!'"
      ]
     },
     "execution_count": 11,
     "metadata": {},
     "output_type": "execute_result"
    }
   ],
   "source": [
    "def is_bulbasaur(string):\n",
    "    if string == \"Bulba Bulba\":\n",
    "        return \"You caught a Bulbasaur!\"\n",
    "    return \"Oh! The Bulbasaur appeared to be caught!\"\n",
    "\n",
    "func_output = find_a_bulbasaur(poke_list)\n",
    "print(func_output)\n",
    "#                  \"Bulba Bulba\"\n",
    "print(is_bulbasaur(func_output))\n",
    "\n",
    "is_bulbasaur(find_a_bulbasaur(poke_list))"
   ]
  },
  {
   "cell_type": "markdown",
   "metadata": {},
   "source": [
    "##### *args / **kwargs (keyword arguments)"
   ]
  },
  {
   "cell_type": "code",
   "execution_count": 12,
   "metadata": {
    "tags": []
   },
   "outputs": [],
   "source": [
    "#*args, **kwargs\n",
    "# *args stands for arguments and will allow the function to take in any number of arguments\n",
    "# **kwargs stands for key word arguments and will allow the function to take in any number of keyword arguments\n",
    "# if other parameters are present, args and kwarfs must go last\n",
    "\n",
    "\n"
   ]
  },
  {
   "cell_type": "markdown",
   "metadata": {},
   "source": [
    "##### Docstring"
   ]
  },
  {
   "cell_type": "code",
   "execution_count": 13,
   "metadata": {
    "tags": []
   },
   "outputs": [],
   "source": [
    "# docstrings are a really nice way to leave notes about funciontality in your code\n",
    "# provide instructions\n",
    "\n",
    "    "
   ]
  },
  {
   "cell_type": "markdown",
   "metadata": {},
   "source": [
    "##### Using a User Function in a Loop"
   ]
  },
  {
   "cell_type": "code",
   "execution_count": null,
   "metadata": {},
   "outputs": [],
   "source": []
  },
  {
   "cell_type": "code",
   "execution_count": null,
   "metadata": {
    "scrolled": true
   },
   "outputs": [],
   "source": []
  },
  {
   "cell_type": "code",
   "execution_count": null,
   "metadata": {},
   "outputs": [],
   "source": []
  },
  {
   "cell_type": "markdown",
   "metadata": {},
   "source": [
    "## Function Exercises <br>\n",
    "### Exercise 1\n",
    "<p>Write a function that loops through a list of first_names and a list of last_names, combines the two and return a list of full_names</p>"
   ]
  },
  {
   "cell_type": "code",
   "execution_count": null,
   "metadata": {},
   "outputs": [],
   "source": []
  },
  {
   "cell_type": "code",
   "execution_count": 14,
   "metadata": {
    "tags": []
   },
   "outputs": [
    {
     "name": "stdout",
     "output_type": "stream",
     "text": [
      "['John Smith', 'Evan Smith', 'Jordan Williams', 'Max Bell']\n"
     ]
    }
   ],
   "source": [
    "first_name = ['John', 'Evan', 'Jordan', 'Max']\n",
    "last_name = ['Smith', 'Smith', 'Williams', 'Bell']\n",
    "\n",
    "def long_names(first_name, last_name):\n",
    "    \n",
    "    full_names = []\n",
    "    for i in range(len(first_name)):\n",
    "        full_name = f\"{first_name[i]} {last_name[i]}\"\n",
    "        full_names.append(full_name)\n",
    "    return full_names\n",
    "\n",
    "allnames = long_names(first_name, last_name)\n",
    "print(allnames)\n",
    "\n",
    "# Output: ['John Smith', 'Evan Smith', 'Jordan Williams', 'Max Bell']"
   ]
  },
  {
   "cell_type": "code",
   "execution_count": 15,
   "metadata": {
    "tags": []
   },
   "outputs": [
    {
     "name": "stdout",
     "output_type": "stream",
     "text": [
      "['John Smith', 'Evan Smith', 'Jordan Williams', 'Max Bell']\n"
     ]
    }
   ],
   "source": [
    "output = [name1 + \" \" + name2 for name1, name2 in zip(first_name, last_name)]\n",
    "print(output)"
   ]
  },
  {
   "cell_type": "code",
   "execution_count": 16,
   "metadata": {
    "tags": []
   },
   "outputs": [
    {
     "data": {
      "text/plain": [
       "['John Smith', 'Evan Smith', 'Jordan Williams', 'Max Bell']"
      ]
     },
     "execution_count": 16,
     "metadata": {},
     "output_type": "execute_result"
    }
   ],
   "source": [
    "def list_comp_names(fist_name, last_name):\n",
    "    return[first_name[i] + \" \" + last_name[i] for i in range(len(first_name))]\n",
    "list_comp_names(first_name, last_name)"
   ]
  },
  {
   "cell_type": "markdown",
   "metadata": {},
   "source": [
    "### Exercise 2\n",
    "Create a function that alters all values in the given list by subtracting 5 and then doubling them."
   ]
  },
  {
   "cell_type": "code",
   "execution_count": 17,
   "metadata": {
    "tags": []
   },
   "outputs": [
    {
     "data": {
      "text/plain": [
       "[0, 10, 20, 30, -4]"
      ]
     },
     "execution_count": 17,
     "metadata": {},
     "output_type": "execute_result"
    }
   ],
   "source": [
    "input_list = [5,10,15,20,3]\n",
    "# output = [0,10,20,30,-4]\n",
    "\n",
    "# def minus_double(list):\n",
    "#     new_list[]\n",
    "#     (number-5)*2\n",
    "\n",
    "def calc_list(arr):\n",
    "    # calc_list = []\n",
    "    # for num in arr:  \n",
    "    #     final_calc = (num-5)*2\n",
    "    #     calc_list.append(final_calc)\n",
    "    # return calc_list\n",
    "\n",
    "    return[((num-5)*2) for num in arr]\n",
    "calc_list(input_list)"
   ]
  },
  {
   "cell_type": "markdown",
   "metadata": {},
   "source": [
    "### Exercise 3\n",
    "Create a function that takes in a list of strings and filters out the strings that DO NOT contain vowels. "
   ]
  },
  {
   "cell_type": "code",
   "execution_count": 18,
   "metadata": {
    "tags": []
   },
   "outputs": [],
   "source": [
    "string_list = ['Sheldon','Pnny','Leonard','Hwrd','Rj','Amy','Strt']\n",
    "# output = ['Sheldon','Leonard','Amy']\n",
    "\n"
   ]
  },
  {
   "cell_type": "code",
   "execution_count": 19,
   "metadata": {
    "tags": []
   },
   "outputs": [
    {
     "name": "stdout",
     "output_type": "stream",
     "text": [
      "['Sheldon', 'Leonard', 'Amy']\n"
     ]
    }
   ],
   "source": [
    "def vowels_only(lis):\n",
    "    vowels = [\"a\", \"e\", \"i\", \"o\", \"u\"]\n",
    "    cool_names = []\n",
    "    \n",
    "    for name in lis:\n",
    "        for letter in name:\n",
    "            if letter.lower() in vowels:\n",
    "                cool_names.append(name)\n",
    "                break\n",
    "                \n",
    "    return cool_names\n",
    "\n",
    "print(vowels_only(string_list))"
   ]
  },
  {
   "cell_type": "code",
   "execution_count": null,
   "metadata": {},
   "outputs": [],
   "source": []
  },
  {
   "cell_type": "markdown",
   "metadata": {},
   "source": [
    "### Exercise 4\n",
    "Create a function that accepts a list as a parameter and returns a dictionary containing the list items as it's keys, and the number of times they appear in the list as the values"
   ]
  },
  {
   "cell_type": "code",
   "execution_count": 20,
   "metadata": {
    "tags": []
   },
   "outputs": [
    {
     "ename": "IndentationError",
     "evalue": "expected an indented block after 'else' statement on line 17 (3831948457.py, line 18)",
     "output_type": "error",
     "traceback": [
      "\u001b[0;36m  Cell \u001b[0;32mIn[20], line 18\u001b[0;36m\u001b[0m\n\u001b[0;31m    count_dict[name] += 1\u001b[0m\n\u001b[0m    ^\u001b[0m\n\u001b[0;31mIndentationError\u001b[0m\u001b[0;31m:\u001b[0m expected an indented block after 'else' statement on line 17\n"
     ]
    }
   ],
   "source": [
    "example_list = [\"Harry\", 'Hermione','Harry','Ron','Dobby','Draco','Luna','Harry','Hermione','Ron','Ron','Ron']\n",
    "\n",
    "# output = {\n",
    "#     \"Harry\":3,\n",
    "#     \"Hermione\":2,\n",
    "#     \"Ron\":4,\n",
    "#     \"Dobby\":1,\n",
    "#     \"Draco\":1,\n",
    "#     \"Luna\": 1\n",
    "# }\n",
    "\n",
    "def count_potter(example_list):\n",
    "    count_dict = {}\n",
    "    for name in example_list:\n",
    "        if name not in count_dict:\n",
    "            count_dict[name] = 1\n",
    "        else:\n",
    "        count_dict[name] += 1\n",
    "        print(count_dict)\n",
    "    return count_dict\n",
    "count_potter(example_list)"
   ]
  },
  {
   "cell_type": "markdown",
   "metadata": {},
   "source": [
    "\n",
    "\n",
    "## Scope <br>\n",
    "<p>Scope refers to the ability to access variables, different types of scope include:<br>a) Global<br>b) Function (local)<br>c) Class (local)</p>"
   ]
  },
  {
   "cell_type": "code",
   "execution_count": 21,
   "metadata": {
    "tags": []
   },
   "outputs": [],
   "source": [
    "# placement of variable declaration matters\n",
    "\n",
    "\n"
   ]
  },
  {
   "cell_type": "markdown",
   "metadata": {},
   "source": [
    "## Modules"
   ]
  },
  {
   "cell_type": "markdown",
   "metadata": {},
   "source": [
    "##### Importing Entire Modules\n"
   ]
  },
  {
   "cell_type": "code",
   "execution_count": 22,
   "metadata": {
    "tags": []
   },
   "outputs": [],
   "source": [
    "## Modules\n",
    "\n",
    "\n"
   ]
  },
  {
   "cell_type": "markdown",
   "metadata": {},
   "source": [
    "##### Importing Methods Only"
   ]
  },
  {
   "cell_type": "code",
   "execution_count": 23,
   "metadata": {
    "tags": []
   },
   "outputs": [],
   "source": [
    "# from xxx import yyy\n",
    "#from math import floor\n"
   ]
  },
  {
   "cell_type": "markdown",
   "metadata": {},
   "source": [
    "##### Using the 'as' Keyword"
   ]
  },
  {
   "cell_type": "code",
   "execution_count": 24,
   "metadata": {
    "tags": []
   },
   "outputs": [],
   "source": [
    "# from xxx import yyy as z\n"
   ]
  },
  {
   "cell_type": "markdown",
   "metadata": {},
   "source": [
    "##### Creating a Module"
   ]
  },
  {
   "cell_type": "code",
   "execution_count": 25,
   "metadata": {
    "tags": []
   },
   "outputs": [
    {
     "ename": "ModuleNotFoundError",
     "evalue": "No module named 'module'",
     "output_type": "error",
     "traceback": [
      "\u001b[0;31m---------------------------------------------------------------------------\u001b[0m",
      "\u001b[0;31mModuleNotFoundError\u001b[0m                       Traceback (most recent call last)",
      "Cell \u001b[0;32mIn[25], line 1\u001b[0m\n\u001b[0;32m----> 1\u001b[0m \u001b[38;5;28;01mfrom\u001b[39;00m \u001b[38;5;21;01mmodule\u001b[39;00m \u001b[38;5;28;01mimport\u001b[39;00m printName \u001b[38;5;28;01mas\u001b[39;00m pn\n\u001b[1;32m      3\u001b[0m pn(\u001b[38;5;124m\"\u001b[39m\u001b[38;5;124mliz\u001b[39m\u001b[38;5;124m\"\u001b[39m)\n",
      "\u001b[0;31mModuleNotFoundError\u001b[0m: No module named 'module'"
     ]
    }
   ],
   "source": [
    "from module import printName as pn\n",
    "\n",
    "pn(\"liz\")"
   ]
  },
  {
   "cell_type": "code",
   "execution_count": null,
   "metadata": {},
   "outputs": [],
   "source": []
  },
  {
   "cell_type": "code",
   "execution_count": null,
   "metadata": {},
   "outputs": [],
   "source": []
  },
  {
   "cell_type": "markdown",
   "metadata": {},
   "source": [
    "# Homework Exercises"
   ]
  },
  {
   "cell_type": "markdown",
   "metadata": {},
   "source": [
    "### 1) Create a Module in VS Code and Import It into jupyter notebook <br>\n",
    "<p><b>Module should have the following capabilities:</b><br><br>\n",
    "1a) Has a function to calculate the square footage of a house <br>\n",
    "    <b>Reminder of Formula: Length X Width == Area</b><br>\n",
    "        <hr>\n",
    "1b) Has a function to calculate the circumference of a circle 2 Pi r <br><br>\n",
    "<b>Program in Jupyter Notebook should take in user input and use imported functions to calculate a circle's circumference or a houses square footage</b>\n",
    "</p>"
   ]
  },
  {
   "cell_type": "code",
   "execution_count": 35,
   "metadata": {
    "tags": []
   },
   "outputs": [],
   "source": [
    "def sq_ft():\n",
    "\n",
    "    while True:\n",
    "        length = int(input(\"Please provide the length of the house?: \"))\n",
    "        width = int(input(\"Plese provide the width of your house?: \"))\n",
    "        area = length * width\n",
    "    \n",
    "    return area"
   ]
  },
  {
   "cell_type": "markdown",
   "metadata": {
    "tags": []
   },
   "source": [
    "### 2) Build a Shopping Cart Function <br>\n",
    "<p><b>You can use either lists or dictionaries. The program should have the following capabilities:</b><br><br>\n",
    "1) Takes in input <br>\n",
    "2) Stores user input into a dictionary or list <br>\n",
    "3) The User can add or delete items <br>\n",
    "4) The User can see current shopping list <br>\n",
    "5) The program Loops until user 'quits' <br>\n",
    "6) Upon quiting the program, print out all items in the user's list <br>\n",
    "</p>"
   ]
  },
  {
   "cell_type": "code",
   "execution_count": 30,
   "metadata": {
    "tags": []
   },
   "outputs": [
    {
     "name": "stdin",
     "output_type": "stream",
     "text": [
      "What would you like to do: add, delete, show or quit?  add\n",
      "What would you like to add?  potatoes\n",
      "Please enter how many you would like to add:  8\n",
      "What would you like to do: add, delete, show or quit?  add\n",
      "What would you like to add?  chips\n",
      "Please enter how many you would like to add:  2\n",
      "What would you like to do: add, delete, show or quit?  show\n"
     ]
    },
    {
     "name": "stdout",
     "output_type": "stream",
     "text": [
      "{'potatoes': 8, 'chips': 2}\n"
     ]
    },
    {
     "name": "stdin",
     "output_type": "stream",
     "text": [
      "What would you like to do: add, delete, show or quit?  add\n",
      "What would you like to add?  cereal\n",
      "Please enter how many you would like to add:  2\n",
      "What would you like to do: add, delete, show or quit?  delete\n",
      "What would you like to delete?  potatoes\n",
      "Please enter how many you want to delete:  2\n",
      "What would you like to do: add, delete, show or quit?  show\n"
     ]
    },
    {
     "name": "stdout",
     "output_type": "stream",
     "text": [
      "{'potatoes': 6, 'chips': 2, 'cereal': 2}\n"
     ]
    },
    {
     "name": "stdin",
     "output_type": "stream",
     "text": [
      "What would you like to do: add, delete, show or quit?  quit\n"
     ]
    }
   ],
   "source": [
    "cart = {}\n",
    "\n",
    "while True:\n",
    "    \n",
    "    selection = input(\"What would you like to do: add, delete, show or quit? \")\n",
    "    if selection.lower() == \"add\":\n",
    "        item = input(\"What would you like to add? \")\n",
    "        quantity = int(input(\"Please enter how many you would like to add: \"))\n",
    "        cart[item] = quantity\n",
    "    if selection.lower() == \"delete\":\n",
    "        deleted_item = input(\"What would you like to delete? \")\n",
    "        quantity = int(input(\"Please enter how many you want to delete: \"))\n",
    "        cart[deleted_item] -= quantity\n",
    "    if selection.lower() == \"show\":\n",
    "        print(cart)\n",
    "        continue\n",
    "    if selection.lower()== \"quit\":\n",
    "        break\n",
    "\n",
    "cart[item] = quantity"
   ]
  }
 ],
 "metadata": {
  "kernelspec": {
   "display_name": "Python 3 (ipykernel)",
   "language": "python",
   "name": "python3"
  },
  "language_info": {
   "codemirror_mode": {
    "name": "ipython",
    "version": 3
   },
   "file_extension": ".py",
   "mimetype": "text/x-python",
   "name": "python",
   "nbconvert_exporter": "python",
   "pygments_lexer": "ipython3",
   "version": "3.11.4"
  }
 },
 "nbformat": 4,
 "nbformat_minor": 4
}
